{
  "nbformat": 4,
  "nbformat_minor": 0,
  "metadata": {
    "colab": {
      "name": "Best_Portfolio .ipynb",
      "provenance": [],
      "collapsed_sections": [],
      "authorship_tag": "ABX9TyOI9E6xfHHmacS0/d5ZVJq6",
      "include_colab_link": true
    },
    "kernelspec": {
      "name": "python3",
      "display_name": "Python 3"
    },
    "language_info": {
      "name": "python"
    },
    "accelerator": "GPU"
  },
  "cells": [
    {
      "cell_type": "markdown",
      "metadata": {
        "id": "view-in-github",
        "colab_type": "text"
      },
      "source": [
        "<a href=\"https://colab.research.google.com/github/Manoj-Jupudi/PortFolio-Optimization/blob/main/Best_Portfolio_.ipynb\" target=\"_parent\"><img src=\"https://colab.research.google.com/assets/colab-badge.svg\" alt=\"Open In Colab\"/></a>"
      ]
    },
    {
      "cell_type": "code",
      "metadata": {
        "id": "sw3ToTZ0ZIJ0"
      },
      "source": [
        "### Importing Libaries\n",
        "import numpy as np\n",
        "import pandas_datareader as web\n",
        "import pandas as pd\n",
        "import matplotlib.pyplot as plt \n",
        "plt.style.use(\"fivethirtyeight\")"
      ],
      "execution_count": null,
      "outputs": []
    },
    {
      "cell_type": "code",
      "metadata": {
        "id": "hmtj7TeviG0Z"
      },
      "source": [
        "symbols=['AAPL','FB','AMZN','NFLX','GOOG']"
      ],
      "execution_count": null,
      "outputs": []
    },
    {
      "cell_type": "code",
      "metadata": {
        "id": "-zh-9YC-h3HB"
      },
      "source": [
        "### Read the data\n",
        "data=web.DataReader(symbols,data_source='yahoo',start='2013-1-1',end='21-5-30')['Adj Close']"
      ],
      "execution_count": null,
      "outputs": []
    },
    {
      "cell_type": "code",
      "metadata": {
        "colab": {
          "base_uri": "https://localhost:8080/",
          "height": 434
        },
        "id": "80dshmSFiZgy",
        "outputId": "d95171e1-1748-4a62-9fc4-6f7e40635aa4"
      },
      "source": [
        "data"
      ],
      "execution_count": null,
      "outputs": [
        {
          "output_type": "execute_result",
          "data": {
            "text/html": [
              "<div>\n",
              "<style scoped>\n",
              "    .dataframe tbody tr th:only-of-type {\n",
              "        vertical-align: middle;\n",
              "    }\n",
              "\n",
              "    .dataframe tbody tr th {\n",
              "        vertical-align: top;\n",
              "    }\n",
              "\n",
              "    .dataframe thead th {\n",
              "        text-align: right;\n",
              "    }\n",
              "</style>\n",
              "<table border=\"1\" class=\"dataframe\">\n",
              "  <thead>\n",
              "    <tr style=\"text-align: right;\">\n",
              "      <th>Symbols</th>\n",
              "      <th>AAPL</th>\n",
              "      <th>FB</th>\n",
              "      <th>AMZN</th>\n",
              "      <th>NFLX</th>\n",
              "      <th>GOOG</th>\n",
              "    </tr>\n",
              "    <tr>\n",
              "      <th>Date</th>\n",
              "      <th></th>\n",
              "      <th></th>\n",
              "      <th></th>\n",
              "      <th></th>\n",
              "      <th></th>\n",
              "    </tr>\n",
              "  </thead>\n",
              "  <tbody>\n",
              "    <tr>\n",
              "      <th>2013-01-02</th>\n",
              "      <td>17.010899</td>\n",
              "      <td>28.000000</td>\n",
              "      <td>257.309998</td>\n",
              "      <td>13.144286</td>\n",
              "      <td>360.274597</td>\n",
              "    </tr>\n",
              "    <tr>\n",
              "      <th>2013-01-03</th>\n",
              "      <td>16.796177</td>\n",
              "      <td>27.770000</td>\n",
              "      <td>258.480011</td>\n",
              "      <td>13.798571</td>\n",
              "      <td>360.483826</td>\n",
              "    </tr>\n",
              "    <tr>\n",
              "      <th>2013-01-04</th>\n",
              "      <td>16.328323</td>\n",
              "      <td>28.760000</td>\n",
              "      <td>259.149994</td>\n",
              "      <td>13.711429</td>\n",
              "      <td>367.607117</td>\n",
              "    </tr>\n",
              "    <tr>\n",
              "      <th>2013-01-07</th>\n",
              "      <td>16.232281</td>\n",
              "      <td>29.420000</td>\n",
              "      <td>268.459991</td>\n",
              "      <td>14.171429</td>\n",
              "      <td>366.003143</td>\n",
              "    </tr>\n",
              "    <tr>\n",
              "      <th>2013-01-08</th>\n",
              "      <td>16.275965</td>\n",
              "      <td>29.059999</td>\n",
              "      <td>266.380005</td>\n",
              "      <td>13.880000</td>\n",
              "      <td>365.280823</td>\n",
              "    </tr>\n",
              "    <tr>\n",
              "      <th>...</th>\n",
              "      <td>...</td>\n",
              "      <td>...</td>\n",
              "      <td>...</td>\n",
              "      <td>...</td>\n",
              "      <td>...</td>\n",
              "    </tr>\n",
              "    <tr>\n",
              "      <th>2021-05-24</th>\n",
              "      <td>127.099998</td>\n",
              "      <td>324.630005</td>\n",
              "      <td>3244.989990</td>\n",
              "      <td>502.899994</td>\n",
              "      <td>2406.669922</td>\n",
              "    </tr>\n",
              "    <tr>\n",
              "      <th>2021-05-25</th>\n",
              "      <td>126.900002</td>\n",
              "      <td>327.790009</td>\n",
              "      <td>3259.050049</td>\n",
              "      <td>501.339996</td>\n",
              "      <td>2409.070068</td>\n",
              "    </tr>\n",
              "    <tr>\n",
              "      <th>2021-05-26</th>\n",
              "      <td>126.849998</td>\n",
              "      <td>327.660004</td>\n",
              "      <td>3265.159912</td>\n",
              "      <td>502.359985</td>\n",
              "      <td>2433.530029</td>\n",
              "    </tr>\n",
              "    <tr>\n",
              "      <th>2021-05-27</th>\n",
              "      <td>125.279999</td>\n",
              "      <td>332.750000</td>\n",
              "      <td>3230.110107</td>\n",
              "      <td>503.859985</td>\n",
              "      <td>2402.510010</td>\n",
              "    </tr>\n",
              "    <tr>\n",
              "      <th>2021-05-28</th>\n",
              "      <td>124.610001</td>\n",
              "      <td>328.730011</td>\n",
              "      <td>3223.070068</td>\n",
              "      <td>502.809998</td>\n",
              "      <td>2411.560059</td>\n",
              "    </tr>\n",
              "  </tbody>\n",
              "</table>\n",
              "<p>2117 rows × 5 columns</p>\n",
              "</div>"
            ],
            "text/plain": [
              "Symbols           AAPL          FB         AMZN        NFLX         GOOG\n",
              "Date                                                                    \n",
              "2013-01-02   17.010899   28.000000   257.309998   13.144286   360.274597\n",
              "2013-01-03   16.796177   27.770000   258.480011   13.798571   360.483826\n",
              "2013-01-04   16.328323   28.760000   259.149994   13.711429   367.607117\n",
              "2013-01-07   16.232281   29.420000   268.459991   14.171429   366.003143\n",
              "2013-01-08   16.275965   29.059999   266.380005   13.880000   365.280823\n",
              "...                ...         ...          ...         ...          ...\n",
              "2021-05-24  127.099998  324.630005  3244.989990  502.899994  2406.669922\n",
              "2021-05-25  126.900002  327.790009  3259.050049  501.339996  2409.070068\n",
              "2021-05-26  126.849998  327.660004  3265.159912  502.359985  2433.530029\n",
              "2021-05-27  125.279999  332.750000  3230.110107  503.859985  2402.510010\n",
              "2021-05-28  124.610001  328.730011  3223.070068  502.809998  2411.560059\n",
              "\n",
              "[2117 rows x 5 columns]"
            ]
          },
          "metadata": {
            "tags": []
          },
          "execution_count": 57
        }
      ]
    },
    {
      "cell_type": "code",
      "metadata": {
        "id": "3w9QpF1Rian2"
      },
      "source": [
        "###Converting it to csvFile\n",
        "data.to_csv('port.csv')"
      ],
      "execution_count": null,
      "outputs": []
    },
    {
      "cell_type": "code",
      "metadata": {
        "id": "-6gx7il2jWZV"
      },
      "source": [
        "###Removing Null Values\n",
        "df=pd.read_csv('port.csv')\n",
        "df.dropna(inplace=True,axis=0)"
      ],
      "execution_count": null,
      "outputs": []
    },
    {
      "cell_type": "code",
      "metadata": {
        "colab": {
          "base_uri": "https://localhost:8080/",
          "height": 434
        },
        "id": "m7lDQbMrjZct",
        "outputId": "9eb6b413-fb07-4145-9761-14a5ce97ca35"
      },
      "source": [
        "df.set_index(df['Date'])"
      ],
      "execution_count": null,
      "outputs": [
        {
          "output_type": "execute_result",
          "data": {
            "text/html": [
              "<div>\n",
              "<style scoped>\n",
              "    .dataframe tbody tr th:only-of-type {\n",
              "        vertical-align: middle;\n",
              "    }\n",
              "\n",
              "    .dataframe tbody tr th {\n",
              "        vertical-align: top;\n",
              "    }\n",
              "\n",
              "    .dataframe thead th {\n",
              "        text-align: right;\n",
              "    }\n",
              "</style>\n",
              "<table border=\"1\" class=\"dataframe\">\n",
              "  <thead>\n",
              "    <tr style=\"text-align: right;\">\n",
              "      <th></th>\n",
              "      <th>Date</th>\n",
              "      <th>AAPL</th>\n",
              "      <th>FB</th>\n",
              "      <th>AMZN</th>\n",
              "      <th>NFLX</th>\n",
              "      <th>GOOG</th>\n",
              "    </tr>\n",
              "    <tr>\n",
              "      <th>Date</th>\n",
              "      <th></th>\n",
              "      <th></th>\n",
              "      <th></th>\n",
              "      <th></th>\n",
              "      <th></th>\n",
              "      <th></th>\n",
              "    </tr>\n",
              "  </thead>\n",
              "  <tbody>\n",
              "    <tr>\n",
              "      <th>2013-01-02</th>\n",
              "      <td>2013-01-02</td>\n",
              "      <td>17.010899</td>\n",
              "      <td>28.000000</td>\n",
              "      <td>257.309998</td>\n",
              "      <td>13.144286</td>\n",
              "      <td>360.274597</td>\n",
              "    </tr>\n",
              "    <tr>\n",
              "      <th>2013-01-03</th>\n",
              "      <td>2013-01-03</td>\n",
              "      <td>16.796177</td>\n",
              "      <td>27.770000</td>\n",
              "      <td>258.480011</td>\n",
              "      <td>13.798571</td>\n",
              "      <td>360.483826</td>\n",
              "    </tr>\n",
              "    <tr>\n",
              "      <th>2013-01-04</th>\n",
              "      <td>2013-01-04</td>\n",
              "      <td>16.328323</td>\n",
              "      <td>28.760000</td>\n",
              "      <td>259.149994</td>\n",
              "      <td>13.711429</td>\n",
              "      <td>367.607117</td>\n",
              "    </tr>\n",
              "    <tr>\n",
              "      <th>2013-01-07</th>\n",
              "      <td>2013-01-07</td>\n",
              "      <td>16.232281</td>\n",
              "      <td>29.420000</td>\n",
              "      <td>268.459991</td>\n",
              "      <td>14.171429</td>\n",
              "      <td>366.003143</td>\n",
              "    </tr>\n",
              "    <tr>\n",
              "      <th>2013-01-08</th>\n",
              "      <td>2013-01-08</td>\n",
              "      <td>16.275965</td>\n",
              "      <td>29.059999</td>\n",
              "      <td>266.380005</td>\n",
              "      <td>13.880000</td>\n",
              "      <td>365.280823</td>\n",
              "    </tr>\n",
              "    <tr>\n",
              "      <th>...</th>\n",
              "      <td>...</td>\n",
              "      <td>...</td>\n",
              "      <td>...</td>\n",
              "      <td>...</td>\n",
              "      <td>...</td>\n",
              "      <td>...</td>\n",
              "    </tr>\n",
              "    <tr>\n",
              "      <th>2021-05-24</th>\n",
              "      <td>2021-05-24</td>\n",
              "      <td>127.099998</td>\n",
              "      <td>324.630005</td>\n",
              "      <td>3244.989990</td>\n",
              "      <td>502.899994</td>\n",
              "      <td>2406.669922</td>\n",
              "    </tr>\n",
              "    <tr>\n",
              "      <th>2021-05-25</th>\n",
              "      <td>2021-05-25</td>\n",
              "      <td>126.900002</td>\n",
              "      <td>327.790009</td>\n",
              "      <td>3259.050049</td>\n",
              "      <td>501.339996</td>\n",
              "      <td>2409.070068</td>\n",
              "    </tr>\n",
              "    <tr>\n",
              "      <th>2021-05-26</th>\n",
              "      <td>2021-05-26</td>\n",
              "      <td>126.849998</td>\n",
              "      <td>327.660004</td>\n",
              "      <td>3265.159912</td>\n",
              "      <td>502.359985</td>\n",
              "      <td>2433.530029</td>\n",
              "    </tr>\n",
              "    <tr>\n",
              "      <th>2021-05-27</th>\n",
              "      <td>2021-05-27</td>\n",
              "      <td>125.279999</td>\n",
              "      <td>332.750000</td>\n",
              "      <td>3230.110107</td>\n",
              "      <td>503.859985</td>\n",
              "      <td>2402.510010</td>\n",
              "    </tr>\n",
              "    <tr>\n",
              "      <th>2021-05-28</th>\n",
              "      <td>2021-05-28</td>\n",
              "      <td>124.610001</td>\n",
              "      <td>328.730011</td>\n",
              "      <td>3223.070068</td>\n",
              "      <td>502.809998</td>\n",
              "      <td>2411.560059</td>\n",
              "    </tr>\n",
              "  </tbody>\n",
              "</table>\n",
              "<p>2117 rows × 6 columns</p>\n",
              "</div>"
            ],
            "text/plain": [
              "                  Date        AAPL  ...        NFLX         GOOG\n",
              "Date                                ...                         \n",
              "2013-01-02  2013-01-02   17.010899  ...   13.144286   360.274597\n",
              "2013-01-03  2013-01-03   16.796177  ...   13.798571   360.483826\n",
              "2013-01-04  2013-01-04   16.328323  ...   13.711429   367.607117\n",
              "2013-01-07  2013-01-07   16.232281  ...   14.171429   366.003143\n",
              "2013-01-08  2013-01-08   16.275965  ...   13.880000   365.280823\n",
              "...                ...         ...  ...         ...          ...\n",
              "2021-05-24  2021-05-24  127.099998  ...  502.899994  2406.669922\n",
              "2021-05-25  2021-05-25  126.900002  ...  501.339996  2409.070068\n",
              "2021-05-26  2021-05-26  126.849998  ...  502.359985  2433.530029\n",
              "2021-05-27  2021-05-27  125.279999  ...  503.859985  2402.510010\n",
              "2021-05-28  2021-05-28  124.610001  ...  502.809998  2411.560059\n",
              "\n",
              "[2117 rows x 6 columns]"
            ]
          },
          "metadata": {
            "tags": []
          },
          "execution_count": 61
        }
      ]
    },
    {
      "cell_type": "code",
      "metadata": {
        "id": "-zxnLrF7jaAW"
      },
      "source": [
        "df.drop('Date',inplace=True,axis=1)"
      ],
      "execution_count": null,
      "outputs": []
    },
    {
      "cell_type": "code",
      "metadata": {
        "colab": {
          "base_uri": "https://localhost:8080/",
          "height": 196
        },
        "id": "t7fAdSE7jjjP",
        "outputId": "cb93cccf-8306-4e7e-e290-6f65973525fb"
      },
      "source": [
        "df.head()"
      ],
      "execution_count": null,
      "outputs": [
        {
          "output_type": "execute_result",
          "data": {
            "text/html": [
              "<div>\n",
              "<style scoped>\n",
              "    .dataframe tbody tr th:only-of-type {\n",
              "        vertical-align: middle;\n",
              "    }\n",
              "\n",
              "    .dataframe tbody tr th {\n",
              "        vertical-align: top;\n",
              "    }\n",
              "\n",
              "    .dataframe thead th {\n",
              "        text-align: right;\n",
              "    }\n",
              "</style>\n",
              "<table border=\"1\" class=\"dataframe\">\n",
              "  <thead>\n",
              "    <tr style=\"text-align: right;\">\n",
              "      <th></th>\n",
              "      <th>AAPL</th>\n",
              "      <th>FB</th>\n",
              "      <th>AMZN</th>\n",
              "      <th>NFLX</th>\n",
              "      <th>GOOG</th>\n",
              "    </tr>\n",
              "  </thead>\n",
              "  <tbody>\n",
              "    <tr>\n",
              "      <th>0</th>\n",
              "      <td>17.010899</td>\n",
              "      <td>28.000000</td>\n",
              "      <td>257.309998</td>\n",
              "      <td>13.144286</td>\n",
              "      <td>360.274597</td>\n",
              "    </tr>\n",
              "    <tr>\n",
              "      <th>1</th>\n",
              "      <td>16.796177</td>\n",
              "      <td>27.770000</td>\n",
              "      <td>258.480011</td>\n",
              "      <td>13.798571</td>\n",
              "      <td>360.483826</td>\n",
              "    </tr>\n",
              "    <tr>\n",
              "      <th>2</th>\n",
              "      <td>16.328323</td>\n",
              "      <td>28.760000</td>\n",
              "      <td>259.149994</td>\n",
              "      <td>13.711429</td>\n",
              "      <td>367.607117</td>\n",
              "    </tr>\n",
              "    <tr>\n",
              "      <th>3</th>\n",
              "      <td>16.232281</td>\n",
              "      <td>29.420000</td>\n",
              "      <td>268.459991</td>\n",
              "      <td>14.171429</td>\n",
              "      <td>366.003143</td>\n",
              "    </tr>\n",
              "    <tr>\n",
              "      <th>4</th>\n",
              "      <td>16.275965</td>\n",
              "      <td>29.059999</td>\n",
              "      <td>266.380005</td>\n",
              "      <td>13.880000</td>\n",
              "      <td>365.280823</td>\n",
              "    </tr>\n",
              "  </tbody>\n",
              "</table>\n",
              "</div>"
            ],
            "text/plain": [
              "        AAPL         FB        AMZN       NFLX        GOOG\n",
              "0  17.010899  28.000000  257.309998  13.144286  360.274597\n",
              "1  16.796177  27.770000  258.480011  13.798571  360.483826\n",
              "2  16.328323  28.760000  259.149994  13.711429  367.607117\n",
              "3  16.232281  29.420000  268.459991  14.171429  366.003143\n",
              "4  16.275965  29.059999  266.380005  13.880000  365.280823"
            ]
          },
          "metadata": {
            "tags": []
          },
          "execution_count": 63
        }
      ]
    },
    {
      "cell_type": "code",
      "metadata": {
        "id": "f-lMXJWejxOe"
      },
      "source": [
        "from pypfopt.efficient_frontier import EfficientFrontier\n",
        "from pypfopt import risk_models\n",
        "from pypfopt import expected_returns\n"
      ],
      "execution_count": null,
      "outputs": []
    },
    {
      "cell_type": "code",
      "metadata": {
        "id": "Tbg7jzIllFMT"
      },
      "source": [
        "mu=expected_returns.mean_historical_return(df)\n",
        "s=risk_models.sample_cov(df)"
      ],
      "execution_count": null,
      "outputs": []
    },
    {
      "cell_type": "code",
      "metadata": {
        "colab": {
          "base_uri": "https://localhost:8080/"
        },
        "id": "wwzLLNLnlXLt",
        "outputId": "72ca4f37-82b3-4ee6-9118-ed6e222387c3"
      },
      "source": [
        "mu"
      ],
      "execution_count": null,
      "outputs": [
        {
          "output_type": "execute_result",
          "data": {
            "text/plain": [
              "AAPL    0.267635\n",
              "FB      0.340884\n",
              "AMZN    0.351268\n",
              "NFLX    0.543419\n",
              "GOOG    0.254095\n",
              "dtype: float64"
            ]
          },
          "metadata": {
            "tags": []
          },
          "execution_count": 66
        }
      ]
    },
    {
      "cell_type": "code",
      "metadata": {
        "colab": {
          "base_uri": "https://localhost:8080/",
          "height": 196
        },
        "id": "rdeL8c4mlZ5W",
        "outputId": "3ceaa09e-bbcd-40b5-81f4-23a09e5cfe80"
      },
      "source": [
        "s"
      ],
      "execution_count": null,
      "outputs": [
        {
          "output_type": "execute_result",
          "data": {
            "text/html": [
              "<div>\n",
              "<style scoped>\n",
              "    .dataframe tbody tr th:only-of-type {\n",
              "        vertical-align: middle;\n",
              "    }\n",
              "\n",
              "    .dataframe tbody tr th {\n",
              "        vertical-align: top;\n",
              "    }\n",
              "\n",
              "    .dataframe thead th {\n",
              "        text-align: right;\n",
              "    }\n",
              "</style>\n",
              "<table border=\"1\" class=\"dataframe\">\n",
              "  <thead>\n",
              "    <tr style=\"text-align: right;\">\n",
              "      <th></th>\n",
              "      <th>AAPL</th>\n",
              "      <th>FB</th>\n",
              "      <th>AMZN</th>\n",
              "      <th>NFLX</th>\n",
              "      <th>GOOG</th>\n",
              "    </tr>\n",
              "  </thead>\n",
              "  <tbody>\n",
              "    <tr>\n",
              "      <th>AAPL</th>\n",
              "      <td>0.082014</td>\n",
              "      <td>0.045469</td>\n",
              "      <td>0.040364</td>\n",
              "      <td>0.036159</td>\n",
              "      <td>0.038935</td>\n",
              "    </tr>\n",
              "    <tr>\n",
              "      <th>FB</th>\n",
              "      <td>0.045469</td>\n",
              "      <td>0.117963</td>\n",
              "      <td>0.055032</td>\n",
              "      <td>0.057005</td>\n",
              "      <td>0.050791</td>\n",
              "    </tr>\n",
              "    <tr>\n",
              "      <th>AMZN</th>\n",
              "      <td>0.040364</td>\n",
              "      <td>0.055032</td>\n",
              "      <td>0.092541</td>\n",
              "      <td>0.063458</td>\n",
              "      <td>0.047570</td>\n",
              "    </tr>\n",
              "    <tr>\n",
              "      <th>NFLX</th>\n",
              "      <td>0.036159</td>\n",
              "      <td>0.057005</td>\n",
              "      <td>0.063458</td>\n",
              "      <td>0.208836</td>\n",
              "      <td>0.049341</td>\n",
              "    </tr>\n",
              "    <tr>\n",
              "      <th>GOOG</th>\n",
              "      <td>0.038935</td>\n",
              "      <td>0.050791</td>\n",
              "      <td>0.047570</td>\n",
              "      <td>0.049341</td>\n",
              "      <td>0.066751</td>\n",
              "    </tr>\n",
              "  </tbody>\n",
              "</table>\n",
              "</div>"
            ],
            "text/plain": [
              "          AAPL        FB      AMZN      NFLX      GOOG\n",
              "AAPL  0.082014  0.045469  0.040364  0.036159  0.038935\n",
              "FB    0.045469  0.117963  0.055032  0.057005  0.050791\n",
              "AMZN  0.040364  0.055032  0.092541  0.063458  0.047570\n",
              "NFLX  0.036159  0.057005  0.063458  0.208836  0.049341\n",
              "GOOG  0.038935  0.050791  0.047570  0.049341  0.066751"
            ]
          },
          "metadata": {
            "tags": []
          },
          "execution_count": 67
        }
      ]
    },
    {
      "cell_type": "code",
      "metadata": {
        "colab": {
          "base_uri": "https://localhost:8080/"
        },
        "id": "FwLK2hPalaNs",
        "outputId": "2982ba3d-6450-4303-a1d2-69f932ae158f"
      },
      "source": [
        "ef=EfficientFrontier(mu,s)\n",
        "ef.max_sharpe()\n",
        "cleaned_w=ef.clean_weights()\n",
        "ef.portfolio_performance(verbose=True)"
      ],
      "execution_count": null,
      "outputs": [
        {
          "output_type": "stream",
          "text": [
            "Expected annual return: 39.4%\n",
            "Annual volatility: 27.2%\n",
            "Sharpe Ratio: 1.37\n"
          ],
          "name": "stdout"
        },
        {
          "output_type": "execute_result",
          "data": {
            "text/plain": [
              "(0.39354471012514547, 0.2719539041953944, 1.3735589170169065)"
            ]
          },
          "metadata": {
            "tags": []
          },
          "execution_count": 68
        }
      ]
    },
    {
      "cell_type": "code",
      "metadata": {
        "colab": {
          "base_uri": "https://localhost:8080/"
        },
        "id": "onWHPNBAl7dd",
        "outputId": "18a50313-22bb-425e-a2d4-b22ecb915e9e"
      },
      "source": [
        "cleaned_w"
      ],
      "execution_count": null,
      "outputs": [
        {
          "output_type": "execute_result",
          "data": {
            "text/plain": [
              "OrderedDict([('AAPL', 0.22145),\n",
              "             ('FB', 0.15854),\n",
              "             ('AMZN', 0.29504),\n",
              "             ('NFLX', 0.32497),\n",
              "             ('GOOG', 0.0)])"
            ]
          },
          "metadata": {
            "tags": []
          },
          "execution_count": 69
        }
      ]
    },
    {
      "cell_type": "code",
      "metadata": {
        "id": "qLfUB6EbmGKX"
      },
      "source": [
        "from pypfopt.discrete_allocation import DiscreteAllocation,get_latest_prices\n"
      ],
      "execution_count": null,
      "outputs": []
    },
    {
      "cell_type": "code",
      "metadata": {
        "id": "3HNUlIFU3BvT"
      },
      "source": [
        "val=10000\n",
        "latest_prices=get_latest_prices(df)\n",
        "weights=cleaned_w\n",
        "da=DiscreteAllocation(cleaned_w,latest_prices=latest_prices,total_portfolio_value=val)"
      ],
      "execution_count": null,
      "outputs": []
    },
    {
      "cell_type": "code",
      "metadata": {
        "id": "ZRkcjV3L3c-Z"
      },
      "source": [
        "allocation,leftover=da.lp_portfolio()"
      ],
      "execution_count": null,
      "outputs": []
    },
    {
      "cell_type": "code",
      "metadata": {
        "colab": {
          "base_uri": "https://localhost:8080/"
        },
        "id": "pNYWmbbt3hE0",
        "outputId": "c981b853-5148-424e-80d0-0e4e4af772f5"
      },
      "source": [
        "print(allocation)"
      ],
      "execution_count": null,
      "outputs": [
        {
          "output_type": "stream",
          "text": [
            "{'AAPL': 16, 'FB': 5, 'AMZN': 1, 'NFLX': 6}\n"
          ],
          "name": "stdout"
        }
      ]
    },
    {
      "cell_type": "code",
      "metadata": {
        "colab": {
          "base_uri": "https://localhost:8080/"
        },
        "id": "Vn-n7r4T3i-3",
        "outputId": "a57b7b29-db44-4b4d-a621-bbc23d2f886b"
      },
      "source": [
        "leftover"
      ],
      "execution_count": null,
      "outputs": [
        {
          "output_type": "execute_result",
          "data": {
            "text/plain": [
              "122.65988159179688"
            ]
          },
          "metadata": {
            "tags": []
          },
          "execution_count": 74
        }
      ]
    },
    {
      "cell_type": "code",
      "metadata": {
        "id": "G9D5Wy8e3mT_"
      },
      "source": [
        ""
      ],
      "execution_count": null,
      "outputs": []
    }
  ]
}